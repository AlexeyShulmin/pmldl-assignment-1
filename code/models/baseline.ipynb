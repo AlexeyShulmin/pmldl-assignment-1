{
 "cells": [
  {
   "cell_type": "code",
   "execution_count": 1,
   "id": "22717023-43ff-4fa8-9e10-defa70cee3ad",
   "metadata": {},
   "outputs": [],
   "source": [
    "import torch\n",
    "import matplotlib.pyplot as plt\n",
    "from tqdm import tqdm\n",
    "from torchvision import datasets\n",
    "from torchvision.transforms import v2\n",
    "import torch.nn as nn\n",
    "import torch.optim as optim"
   ]
  },
  {
   "cell_type": "code",
   "execution_count": 2,
   "id": "5b3e6e28-d3bd-4923-b1d0-e791463248bb",
   "metadata": {},
   "outputs": [],
   "source": [
    "batch_size = 32\n",
    "# MNIST Dataset\n",
    "mnist_train_dataset = datasets.MNIST(root='../datasets/mnist_data/', train=True, transform=v2.Compose([v2.ToImage(), v2.ToDtype(torch.float32, scale=True)]), download=True)\n",
    "mnist_val_dataset = datasets.MNIST(root='../datasets/mnist_data/', train=False, transform=v2.Compose([v2.ToImage(), v2.ToDtype(torch.float32, scale=True)]), download=True)\n",
    "\n",
    "# Data Loader (Input Pipeline)\n",
    "mnist_train_loader = torch.utils.data.DataLoader(dataset=mnist_train_dataset, batch_size=batch_size, shuffle=True)\n",
    "mnist_val_loader = torch.utils.data.DataLoader(dataset=mnist_val_dataset, batch_size=batch_size, shuffle=False)"
   ]
  },
  {
   "cell_type": "code",
   "execution_count": 8,
   "id": "2c3c4e88-235b-4c68-81a0-4a88be870349",
   "metadata": {},
   "outputs": [],
   "source": [
    "from my_model import MyModel\n",
    "\n",
    "model = MyModel()\n",
    "criterion = nn.CrossEntropyLoss()\n",
    "optimizer = torch.optim.Adam(model.parameters())\n",
    "loaders = {\"train\": mnist_train_loader, \"valid\": mnist_val_loader}\n",
    "max_epochs = 10"
   ]
  },
  {
   "cell_type": "code",
   "execution_count": null,
   "id": "60f5bae9-2cb1-4876-a42a-53ec2bb00d3e",
   "metadata": {},
   "outputs": [],
   "source": [
    "def train_and_val(model, criterion, optimizer, loaders, max_epochs=10):\n",
    "    accuracy = {\"train\": [], \"valid\": []}\n",
    "    for epoch in range(max_epochs):\n",
    "        for k, dataloader in loaders.items():\n",
    "            epoch_correct = 0\n",
    "            epoch_all = 0\n",
    "            for x_batch, y_batch in dataloader:\n",
    "                if k == \"train\":\n",
    "                    model.train()\n",
    "                    optimizer.zero_grad()\n",
    "                    outp = model(x_batch)\n",
    "                    loss = criterion(outp, y_batch)\n",
    "                    loss.backward()\n",
    "                    optimizer.step()\n",
    "                else:\n",
    "                    model.eval()\n",
    "                    with torch.no_grad():\n",
    "                        outp = model(x_batch)\n",
    "                preds = outp.argmax(-1)\n",
    "                correct = (preds == y_batch).sum()\n",
    "                all = len(y_batch)\n",
    "                epoch_correct += correct.item()\n",
    "                epoch_all += all\n",
    "            if k == \"train\":\n",
    "                print(f\"Epoch: {epoch+1}\")\n",
    "            print(f\"Loader: {k}. Accuracy: {epoch_correct/epoch_all}\")\n",
    "            accuracy[k].append(epoch_correct/epoch_all)\n",
    "    return accuracy"
   ]
  },
  {
   "cell_type": "code",
   "execution_count": null,
   "id": "f809c78c-6c09-4afc-9535-8f6ba4b8e9eb",
   "metadata": {},
   "outputs": [],
   "source": [
    "accuracy = train_and_val(model, criterion, optimizer, loaders, max_epochs)\n",
    "\n",
    "plt.figure(figsize=(16, 10))\n",
    "plt.title(\"Accuracy\")\n",
    "plt.plot(range(max_epochs), accuracy['train'], label=\"train\", linewidth=2)\n",
    "plt.plot(range(max_epochs), accuracy['valid'], label=\"validation\", linewidth=2)\n",
    "plt.legend()\n",
    "plt.xlabel(\"Epoch\")\n",
    "plt.show()"
   ]
  },
  {
   "cell_type": "code",
   "execution_count": null,
   "id": "07a1996f-c048-48dd-bb5c-83ac00760c22",
   "metadata": {},
   "outputs": [],
   "source": [
    "torch.save(model.state_dict(), '../../models/baseline')"
   ]
  },
  {
   "cell_type": "code",
   "execution_count": null,
   "id": "5a80dace-ff8b-482d-b086-71b68c214c97",
   "metadata": {},
   "outputs": [],
   "source": []
  }
 ],
 "metadata": {
  "kernelspec": {
   "display_name": "Python 3 (ipykernel)",
   "language": "python",
   "name": "python3"
  },
  "language_info": {
   "codemirror_mode": {
    "name": "ipython",
    "version": 3
   },
   "file_extension": ".py",
   "mimetype": "text/x-python",
   "name": "python",
   "nbconvert_exporter": "python",
   "pygments_lexer": "ipython3",
   "version": "3.11.7"
  }
 },
 "nbformat": 4,
 "nbformat_minor": 5
}
